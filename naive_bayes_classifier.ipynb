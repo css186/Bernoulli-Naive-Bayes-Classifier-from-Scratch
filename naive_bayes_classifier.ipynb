{
  "cells": [
    {
      "cell_type": "markdown",
      "metadata": {
        "id": "OWvsvNr4d7Tz"
      },
      "source": [
        "# 1. Implement Naive Bayes Classifier from Scratch"
      ]
    },
    {
      "cell_type": "markdown",
      "metadata": {
        "id": "0S0rihKrYBNr"
      },
      "source": [
        "## Load data from Google Drive"
      ]
    },
    {
      "cell_type": "code",
      "execution_count": 1,
      "metadata": {
        "colab": {
          "base_uri": "https://localhost:8080/"
        },
        "id": "u_YO-RrbVrZW",
        "outputId": "ea495e53-3c00-46c6-a7df-271a7d4bf5b1"
      },
      "outputs": [],
      "source": [
        "# from google.colab import drive\n",
        "# drive.mount(\"/content/drive\", force_remount=True)\n",
        "\n",
        "# FOLDERNAME = \"Colab\\ Notebooks/MLBigData/hw1\"\n",
        "\n",
        "# %cd drive/MyDrive/$FOLDERNAME"
      ]
    },
    {
      "cell_type": "markdown",
      "metadata": {
        "id": "fBPdXu6mYdXp"
      },
      "source": [
        "## Import Libraries"
      ]
    },
    {
      "cell_type": "code",
      "execution_count": 2,
      "metadata": {
        "id": "UyGk76w-YaiN"
      },
      "outputs": [],
      "source": [
        "import pandas as pd\n",
        "import numpy as np\n",
        "import matplotlib.pyplot as plt\n",
        "import seaborn as sns"
      ]
    },
    {
      "cell_type": "markdown",
      "metadata": {
        "id": "-E5KhgR9ZDr7"
      },
      "source": [
        "## Do some basic checks on datasets\n",
        "1. Rows should be 60,000 since there are 60,000 training data\n",
        "2. Columns should be 784 since it is a flatten pixels of 28x28\n",
        "\n"
      ]
    },
    {
      "cell_type": "code",
      "execution_count": 3,
      "metadata": {
        "id": "Ucqp-xVpYibS"
      },
      "outputs": [],
      "source": [
        "# Read file\n",
        "train_images = pd.read_csv(\"train_images.csv\", header=None)"
      ]
    },
    {
      "cell_type": "code",
      "execution_count": 4,
      "metadata": {
        "colab": {
          "base_uri": "https://localhost:8080/"
        },
        "id": "rKddJHYOYrsN",
        "outputId": "614c8621-823f-4d42-f2f3-641c33212baa"
      },
      "outputs": [
        {
          "data": {
            "text/plain": [
              "(60000, 784)"
            ]
          },
          "execution_count": 4,
          "metadata": {},
          "output_type": "execute_result"
        }
      ],
      "source": [
        "train_images.shape"
      ]
    },
    {
      "cell_type": "markdown",
      "metadata": {
        "id": "YWXU_ydmnaK1"
      },
      "source": [
        "## Check if there is missing data"
      ]
    },
    {
      "cell_type": "code",
      "execution_count": 5,
      "metadata": {
        "colab": {
          "base_uri": "https://localhost:8080/"
        },
        "id": "8n0Mih49cKS7",
        "outputId": "978651fc-3a83-4389-d4c4-2b65b8fbf269"
      },
      "outputs": [
        {
          "name": "stdout",
          "output_type": "stream",
          "text": [
            "<class 'pandas.core.frame.DataFrame'>\n",
            "RangeIndex: 60000 entries, 0 to 59999\n",
            "Columns: 784 entries, 0 to 783\n",
            "dtypes: int64(784)\n",
            "memory usage: 358.9 MB\n"
          ]
        }
      ],
      "source": [
        "train_images.info()"
      ]
    },
    {
      "cell_type": "code",
      "execution_count": 6,
      "metadata": {
        "id": "t8Wu7HzEYrqK"
      },
      "outputs": [],
      "source": [
        "train_label = pd.read_csv(\"train_labels.csv\", header=None)"
      ]
    },
    {
      "cell_type": "code",
      "execution_count": 7,
      "metadata": {
        "colab": {
          "base_uri": "https://localhost:8080/"
        },
        "id": "llkxu2huYroJ",
        "outputId": "04bdeefa-c71b-4243-80b0-3adeacd8bfce"
      },
      "outputs": [
        {
          "data": {
            "text/plain": [
              "(60000, 1)"
            ]
          },
          "execution_count": 7,
          "metadata": {},
          "output_type": "execute_result"
        }
      ],
      "source": [
        "train_label.shape"
      ]
    },
    {
      "cell_type": "code",
      "execution_count": 8,
      "metadata": {
        "colab": {
          "base_uri": "https://localhost:8080/"
        },
        "id": "ZhlJwg7tnhzF",
        "outputId": "9becf8ac-8496-45b2-e3ba-474e5e0e4016"
      },
      "outputs": [
        {
          "name": "stdout",
          "output_type": "stream",
          "text": [
            "<class 'pandas.core.frame.DataFrame'>\n",
            "RangeIndex: 60000 entries, 0 to 59999\n",
            "Data columns (total 1 columns):\n",
            " #   Column  Non-Null Count  Dtype\n",
            "---  ------  --------------  -----\n",
            " 0   0       60000 non-null  int64\n",
            "dtypes: int64(1)\n",
            "memory usage: 468.9 KB\n"
          ]
        }
      ],
      "source": [
        "train_label.info()"
      ]
    },
    {
      "cell_type": "markdown",
      "metadata": {
        "id": "-PQIHgI_fsH0"
      },
      "source": [
        "## Try to plot the origin image out"
      ]
    },
    {
      "cell_type": "code",
      "execution_count": 9,
      "metadata": {
        "colab": {
          "base_uri": "https://localhost:8080/",
          "height": 430
        },
        "id": "fVWc9Ox8aiwx",
        "outputId": "b9f6c37f-bcde-4cf0-c606-42747dad1f17"
      },
      "outputs": [
        {
          "data": {
            "image/png": "[encoded data removed]",
            "text/plain": [
              "<Figure size 640x480 with 1 Axes>"
            ]
          },
          "metadata": {},
          "output_type": "display_data"
        }
      ],
      "source": [
        "# check image\n",
        "plt.imshow(train_images.iloc[6000].values.reshape(28, 28), cmap=\"gray\")\n",
        "plt.show()"
      ]
    },
    {
      "cell_type": "markdown",
      "metadata": {
        "id": "eeesU0Pzpjk8"
      },
      "source": [
        "## Define a binarization function\n",
        "*   All pixel values less than threshold are given value 0\n",
        "*   All pixel values greater than or equal to threshold are given value 1\n",
        "\n"
      ]
    },
    {
      "cell_type": "code",
      "execution_count": 10,
      "metadata": {
        "id": "3OTs8B5uZMd5"
      },
      "outputs": [],
      "source": [
        "def binarization(dataframe, threshold=127):\n",
        "  output = (dataframe.iloc[:] >= threshold).astype(int)\n",
        "  return output"
      ]
    },
    {
      "cell_type": "markdown",
      "metadata": {
        "id": "3azcG73-wIrQ"
      },
      "source": [
        "## Check the binarized result"
      ]
    },
    {
      "cell_type": "code",
      "execution_count": 11,
      "metadata": {
        "colab": {
          "base_uri": "https://localhost:8080/",
          "height": 430
        },
        "id": "9uBXUJkJwHYX",
        "outputId": "23695844-b6fd-422b-dcc5-287a63a3d162"
      },
      "outputs": [
        {
          "data": {
            "image/png": "[encoded data removed]",
            "text/plain": [
              "<Figure size 640x480 with 1 Axes>"
            ]
          },
          "metadata": {},
          "output_type": "display_data"
        }
      ],
      "source": [
        "bi_df = binarization(train_images)\n",
        "bi_df.shape\n",
        "plt.imshow(bi_df.iloc[6000].values.reshape(28, 28), cmap=\"gray\")\n",
        "plt.show()"
      ]
    },
    {
      "cell_type": "markdown",
      "metadata": {
        "id": "xlWItBirnVX-"
      },
      "source": [
        "## Filter dataset into only two classes\n",
        "* Trouser: 1\n",
        "* Pullover: 2"
      ]
    },
    {
      "cell_type": "code",
      "execution_count": 12,
      "metadata": {
        "colab": {
          "base_uri": "https://localhost:8080/"
        },
        "id": "LiDpfk_snVA4",
        "outputId": "5a14fd0c-2aae-43e1-d196-8646a311bca1"
      },
      "outputs": [
        {
          "name": "stdout",
          "output_type": "stream",
          "text": [
            "Shape of data (12000, 784)\n",
            "Shape of label: (12000, 1)\n"
          ]
        }
      ],
      "source": [
        "train_images = train_images[(train_label[0]== 1)|(train_label[0]== 2)]\n",
        "train_label = train_label[(train_label[0]== 1)|(train_label[0]== 2)]\n",
        "print(\"Shape of data\", train_images.shape)\n",
        "print(\"Shape of label:\", train_label.shape)"
      ]
    },
    {
      "cell_type": "code",
      "execution_count": 13,
      "metadata": {
        "colab": {
          "base_uri": "https://localhost:8080/",
          "height": 144
        },
        "id": "Hw20twdTpR-N",
        "outputId": "ba2dfa0f-f124-4822-a83b-0982ae97bc8e"
      },
      "outputs": [
        {
          "data": {
            "text/html": [
              "<div>\n",
              "<style scoped>\n",
              "    .dataframe tbody tr th:only-of-type {\n",
              "        vertical-align: middle;\n",
              "    }\n",
              "\n",
              "    .dataframe tbody tr th {\n",
              "        vertical-align: top;\n",
              "    }\n",
              "\n",
              "    .dataframe thead th {\n",
              "        text-align: right;\n",
              "    }\n",
              "</style>\n",
              "<table border=\"1\" class=\"dataframe\">\n",
              "  <thead>\n",
              "    <tr style=\"text-align: right;\">\n",
              "      <th></th>\n",
              "      <th>0</th>\n",
              "    </tr>\n",
              "  </thead>\n",
              "  <tbody>\n",
              "    <tr>\n",
              "      <th>5</th>\n",
              "      <td>2</td>\n",
              "    </tr>\n",
              "    <tr>\n",
              "      <th>7</th>\n",
              "      <td>2</td>\n",
              "    </tr>\n",
              "    <tr>\n",
              "      <th>16</th>\n",
              "      <td>1</td>\n",
              "    </tr>\n",
              "  </tbody>\n",
              "</table>\n",
              "</div>"
            ],
            "text/plain": [
              "    0\n",
              "5   2\n",
              "7   2\n",
              "16  1"
            ]
          },
          "execution_count": 13,
          "metadata": {},
          "output_type": "execute_result"
        }
      ],
      "source": [
        "train_label.head(3)"
      ]
    },
    {
      "cell_type": "markdown",
      "metadata": {
        "id": "-eQgWVBx3AHC"
      },
      "source": [
        "## Calculate Prior Possibilities: P(y)"
      ]
    },
    {
      "cell_type": "code",
      "execution_count": 14,
      "metadata": {
        "colab": {
          "base_uri": "https://localhost:8080/"
        },
        "id": "PJMIziQiCqc_",
        "outputId": "4f4816f6-5268-4680-9649-de85864458de"
      },
      "outputs": [
        {
          "name": "stdout",
          "output_type": "stream",
          "text": [
            "Shape of train_X: (12000, 784)\n",
            "Shape of train_y: (12000,)\n"
          ]
        }
      ],
      "source": [
        "# Convert train data (binarized) and label data into numpy arrays\n",
        "train_X = binarization(train_images).to_numpy()\n",
        "\n",
        "# Reshape labels\n",
        "train_y = train_label.to_numpy().reshape((-1,))\n",
        "print(\"Shape of train_X:\", train_X.shape)\n",
        "print(\"Shape of train_y:\", train_y.shape)"
      ]
    },
    {
      "cell_type": "code",
      "execution_count": 15,
      "metadata": {
        "colab": {
          "base_uri": "https://localhost:8080/"
        },
        "id": "XTmLVNxKCPZ1",
        "outputId": "3dd7ed16-72ab-483c-e8cc-b8ac5d0fa4e1"
      },
      "outputs": [
        {
          "name": "stdout",
          "output_type": "stream",
          "text": [
            "Number of data: 12000\n",
            "Number of features: 784\n"
          ]
        }
      ],
      "source": [
        "# Get the number of train data and the number of features\n",
        "n_train, n_features = train_X.shape\n",
        "print(\"Number of data:\", n_train)\n",
        "print(\"Number of features:\", n_features)"
      ]
    },
    {
      "cell_type": "code",
      "execution_count": 16,
      "metadata": {
        "colab": {
          "base_uri": "https://localhost:8080/"
        },
        "id": "AqKot0vW_LHU",
        "outputId": "2f74a366-1cd7-439a-9927-282f5e5e858b"
      },
      "outputs": [
        {
          "name": "stdout",
          "output_type": "stream",
          "text": [
            "Classes: [1 2]\n",
            "Number of classes: 2\n"
          ]
        }
      ],
      "source": [
        "# Get all the classes and class count\n",
        "classes = np.unique(train_y)\n",
        "n_classes = len(classes)\n",
        "print(\"Classes:\", classes)\n",
        "print(\"Number of classes:\", n_classes)"
      ]
    },
    {
      "cell_type": "code",
      "execution_count": 17,
      "metadata": {
        "colab": {
          "base_uri": "https://localhost:8080/"
        },
        "id": "5UntGRwMEM_n",
        "outputId": "fec45a41-6634-41dc-ec07-80368e9a5b85"
      },
      "outputs": [
        {
          "name": "stdout",
          "output_type": "stream",
          "text": [
            "Shape of prior: (2,)\n",
            "[0.5 0.5]\n"
          ]
        }
      ],
      "source": [
        "# Calculate prior possibilities: P(y)\n",
        "# Initiate the possibility array\n",
        "prior_possibilities = np.zeros(n_classes, dtype=np.float64)\n",
        "\n",
        "for index, cls in enumerate(classes):\n",
        "  # select all training data for each class\n",
        "  X_class = train_X[train_y == cls]\n",
        "\n",
        "  # get the number of data\n",
        "  n = X_class.shape[0]\n",
        "\n",
        "  # Update the prior possibility array\n",
        "  # p(y) = numbers of y / numbers of total data\n",
        "  prior_possibilities[index] = n / n_train\n",
        "\n",
        "print(\"Shape of prior:\", prior_possibilities.shape)\n",
        "print(prior_possibilities)"
      ]
    },
    {
      "cell_type": "markdown",
      "metadata": {
        "id": "WDY1VhoZKe5m"
      },
      "source": [
        "## Calculate the likelihood: P(Xi|y) with Laplace Smoothing\n",
        "\n",
        "Formula: P(xᵢ | y) = (count(xᵢ,y) + α) / (count(y) + α*N)\n",
        "1. α is the smoothing factor, let's set α = 1\n",
        "2. N is the total number of possible feature values. In our data, since it's binarized, so there will be only 2 possible values. Thus, N = 2."
      ]
    },
    {
      "cell_type": "code",
      "execution_count": 18,
      "metadata": {
        "colab": {
          "base_uri": "https://localhost:8080/"
        },
        "id": "8cMqajUSKemt",
        "outputId": "f97d8576-4d04-4d13-ed7c-2b70ef439c48"
      },
      "outputs": [
        {
          "name": "stdout",
          "output_type": "stream",
          "text": [
            "Shape of likelihoods: (2, 784)\n",
            "[[0.00016661 0.00016661 0.00016661 ... 0.00033322 0.00033322 0.00016661]\n",
            " [0.00016661 0.00016661 0.00016661 ... 0.01266245 0.00166611 0.00016661]]\n"
          ]
        }
      ],
      "source": [
        "likelihoods = np.zeros((n_classes, n_features), dtype=np.float64)\n",
        "alpha = 1\n",
        "N = 2\n",
        "\n",
        "for index, cls in enumerate(classes):\n",
        "  # select all training data for each class\n",
        "  X_class = train_X[train_y == cls]\n",
        "\n",
        "  # get the number of data\n",
        "  n = X_class.shape[0]\n",
        "\n",
        "  # calculate P(xi | y)\n",
        "  likelihoods[index] = (np.sum(X_class, axis=0) + alpha)/ (n + alpha*N)\n",
        "\n",
        "print(\"Shape of likelihoods:\", likelihoods.shape)\n",
        "print(likelihoods)\n"
      ]
    },
    {
      "cell_type": "markdown",
      "metadata": {
        "id": "GIo6BAi8_2F4"
      },
      "source": [
        "## Compute P(class/features) through code (No library allowed)"
      ]
    },
    {
      "cell_type": "markdown",
      "metadata": {
        "id": "qXTXbljgQDJp"
      },
      "source": [
        "## Calculate the Posterior Probabilities Using Bernoulli Naive Bayes\n",
        "\n",
        "### We want to maximize the following formula:\n",
        "* y = argmax (log(P(x1 | y)) + log(P(x2 | y)) + ... + log(P(xn | y)) + log(P(y)))\n",
        "* Use log to prevent \"Underflow\"\n",
        "\n",
        "### Bernoulli Naive Bayes\n",
        "* Use Bernoulli Naive Bayes to compute individual conditional possibility for each feature\n",
        "* P(xi|y) = P(xi=1|y) * xi + (1-P(xi=1|y)) * (1-xi)\n",
        "\n",
        "Source: https://scikit-learn.org/stable/modules/naive_bayes.html"
      ]
    },
    {
      "cell_type": "markdown",
      "metadata": {
        "id": "v4K-MSOj_t48"
      },
      "source": [
        "### Compute P(class/features) through code (No library allowed)"
      ]
    },
    {
      "cell_type": "code",
      "execution_count": 19,
      "metadata": {
        "id": "5Geqt4-Ikvm0"
      },
      "outputs": [],
      "source": [
        "# Use test data\n",
        "test_images = pd.read_csv(\"test_images.csv\", header=None)\n",
        "test_labels = pd.read_csv(\"test_labels.csv\", header=None)\n",
        "\n",
        "\n",
        "# Filter test data\n",
        "test_images = test_images[(test_labels[0]== 1)|(test_labels[0]== 2)]\n",
        "test_labels = test_labels[(test_labels[0]== 1)|(test_labels[0]== 2)]\n",
        "\n",
        "# binarize\n",
        "test_X = binarization(test_images).to_numpy()\n",
        "\n",
        "# Reshape labels\n",
        "test_y = test_labels.to_numpy().reshape((-1,))"
      ]
    },
    {
      "cell_type": "markdown",
      "metadata": {
        "id": "tDZlGagi__m2"
      },
      "source": [
        "### Make class predictions based on the higher value of these computed probabilities (No library allowed)\n",
        "\n",
        "Here is the formula derivation process\n",
        "```\n",
        "P(y∣Xi) = ∏ P(Xi∣y)P(y)\n",
        "log(P(y∣Xi)) = ∑ log(P(Xi|y)) + log(P(y))\n",
        "log(P(y|Xi)) = ∑ log(P(Xi=1|y)^x * P(Xi=0|y)^(1-x)) + log(P(y))\n",
        "log(P(y|Xi)) = ∑ [x * log(P(Xi=1|y)) + (1-x) * log(P(Xi=0|y))] + log(P(y))\n",
        "\n",
        "```\n",
        "\n"
      ]
    },
    {
      "cell_type": "code",
      "execution_count": 20,
      "metadata": {
        "colab": {
          "base_uri": "https://localhost:8080/"
        },
        "id": "2RN9PxwvQKN8",
        "outputId": "ec1431d5-d911-451b-f608-2b63dd03599e"
      },
      "outputs": [
        {
          "name": "stdout",
          "output_type": "stream",
          "text": [
            "Bernoulli Posteriors:  [[-978.6138318  -282.38639354]\n",
            " [-113.42479217 -393.68451593]\n",
            " [-164.76969093 -427.021381  ]\n",
            " ...\n",
            " [-113.83362476 -394.65817342]\n",
            " [-286.5991034  -456.74653516]\n",
            " [-147.27637281 -405.01509746]]\n",
            "Prediction Array:  [2 1 1 ... 1 1 1]\n"
          ]
        }
      ],
      "source": [
        "n_test = test_X.shape[0]\n",
        "posteriors_bernoulli = np.zeros((n_test, n_classes), dtype=np.float64)\n",
        "\n",
        "# Calculate the log value of likelihood\n",
        "log_prob_ones = np.log(likelihoods) # log(P(x = 1 | y))\n",
        "log_prob_zeros = np.log(1 - likelihoods) # log(P(x = 0 | y))\n",
        "\n",
        "\n",
        "for index, cls in enumerate(classes):\n",
        "  # Calculate the log value of prior possibility\n",
        "  log_prior = np.log(prior_possibilities[index])\n",
        "\n",
        "  # Sum over features\n",
        "  # posterior_probs = logP(y) + sum( log(P(xi=1|y)) * xi + log((1-P(xi=1|y))) * (1-xi) )\n",
        "  log_bernoulli = np.sum(log_prob_ones[index] * test_X  +\n",
        "                          log_prob_zeros[index] * (1 - test_X), axis=1)\n",
        "\n",
        "  posteriors_bernoulli[:, index] = log_prior + log_bernoulli\n",
        "\n",
        "predictions_bernoulli = classes[np.argmax(posteriors_bernoulli , axis=1)]\n",
        "\n",
        "print(\"Bernoulli Posteriors: \", posteriors_bernoulli)\n",
        "print(\"Prediction Array: \", predictions_bernoulli)\n"
      ]
    },
    {
      "cell_type": "markdown",
      "metadata": {
        "id": "8KFtd338wljs"
      },
      "source": [
        "## Compute Accurarcy"
      ]
    },
    {
      "cell_type": "code",
      "execution_count": 21,
      "metadata": {
        "colab": {
          "base_uri": "https://localhost:8080/"
        },
        "id": "LnKxLHRJwfco",
        "outputId": "6a14b266-d5ab-485c-9f34-262059cf86f7"
      },
      "outputs": [
        {
          "name": "stdout",
          "output_type": "stream",
          "text": [
            "2000\n",
            "Accuracy: 93.4%\n"
          ]
        }
      ],
      "source": [
        "n = test_y.shape[0]\n",
        "print(n)\n",
        "accuracy = np.mean(predictions_bernoulli  == test_y)\n",
        "print(f\"Accuracy: {accuracy * 100}%\")"
      ]
    },
    {
      "cell_type": "markdown",
      "metadata": {
        "id": "MvksbSG7roYS"
      },
      "source": [
        "## ROC Curve"
      ]
    },
    {
      "cell_type": "markdown",
      "metadata": {
        "id": "4yt3oC5cAD1p"
      },
      "source": [
        "### 1. Convert log probabilities into normalized probabilities"
      ]
    },
    {
      "cell_type": "code",
      "execution_count": 22,
      "metadata": {
        "colab": {
          "base_uri": "https://localhost:8080/"
        },
        "id": "_euiUXZBADWu",
        "outputId": "70274591-0abb-462e-b45b-5053d3023c75"
      },
      "outputs": [
        {
          "name": "stdout",
          "output_type": "stream",
          "text": [
            "[[-696.22743827    0.        ]\n",
            " [   0.         -280.25972376]\n",
            " [   0.         -262.25169008]]\n"
          ]
        }
      ],
      "source": [
        "# norm_probs = posteriors_bernoulli - np.max(posteriors_bernoulli, axis=1, keepdims=True)\n",
        "norm_probs = posteriors_bernoulli - np.max(posteriors_bernoulli, axis=1, keepdims=True)\n",
        "print(norm_probs[0:3])"
      ]
    },
    {
      "cell_type": "code",
      "execution_count": 23,
      "metadata": {
        "colab": {
          "base_uri": "https://localhost:8080/"
        },
        "id": "tFnMzJIw_jCw",
        "outputId": "de6279f4-694e-4ad0-e5ed-281c8692e7cc"
      },
      "outputs": [
        {
          "name": "stdout",
          "output_type": "stream",
          "text": [
            "Check if summation of probabilities equals to 1: [1. 1. 1.]\n"
          ]
        }
      ],
      "source": [
        "# Calculate exponential to convert back from log\n",
        "true_probs = np.exp(norm_probs)\n",
        "true_probs = true_probs/ np.sum(true_probs, axis=1, keepdims=True)\n",
        "probs_sum = np.sum(true_probs, axis=1)\n",
        "print(\"Check if summation of probabilities equals to 1:\", probs_sum [0:3])"
      ]
    },
    {
      "cell_type": "code",
      "execution_count": 24,
      "metadata": {
        "colab": {
          "base_uri": "https://localhost:8080/"
        },
        "id": "jhWvv_3YOAgu",
        "outputId": "eec97ac0-373d-4dc1-b304-b793410563a0"
      },
      "outputs": [
        {
          "data": {
            "text/plain": [
              "array([[4.28810500e-303, 1.00000000e+000],\n",
              "       [1.00000000e+000, 1.92640888e-122],\n",
              "       [1.00000000e+000, 1.27508205e-114],\n",
              "       [1.00000000e+000, 1.33419493e-079],\n",
              "       [1.00000000e+000, 2.93562972e-099]])"
            ]
          },
          "execution_count": 24,
          "metadata": {},
          "output_type": "execute_result"
        }
      ],
      "source": [
        "true_probs[0:5]"
      ]
    },
    {
      "cell_type": "markdown",
      "metadata": {
        "id": "uIEvBXteQmtm"
      },
      "source": [
        "#### 2. Calculate ROC curve for Trousers (class 1) and Pullovers (class 2)\n",
        "Notes: Add 1.1 into threshold because we want a value larger than 1.0 to produce point (0, 0) at ROC Curve. This is also stated in scikit-learn's official docs:\n",
        "https://scikit-learn.org/stable/modules/generated/sklearn.metrics.roc_curve.html\n",
        "\n",
        "> An arbitrary threshold is added for the case tpr=0 and fpr=0 to ensure that the curve starts at (0, 0). This threshold corresponds to the np.inf.\n",
        "\n"
      ]
    },
    {
      "cell_type": "code",
      "execution_count": 25,
      "metadata": {
        "id": "TQTHNwCpRJ1A"
      },
      "outputs": [],
      "source": [
        "# Set thresholds as [0.0 - 1.1] increment 0.05 each time\n",
        "THRESHOLDS = np.arange(0, 1.1, 0.05)\n",
        "\n",
        "def calculate_roc(y_true, class_scores, classes, thresholds):\n",
        "    all_positives = np.sum(y_true) # TP + FN (total actual positive)\n",
        "    all_negatives = len(y_true) - all_positives # TN + FP(total actual negative)\n",
        "    fpr_values = []\n",
        "    tpr_values = []\n",
        "\n",
        "    for threshold in thresholds:\n",
        "        predictions = (class_scores >= threshold).astype(int)\n",
        "        TP = np.sum((predictions == 1) & (y_true == 1))\n",
        "        FP = np.sum((predictions == 1) & (y_true == 0))\n",
        "        # Need to prevent denominator is 0\n",
        "        TPR = TP / all_positives if all_positives > 0 else 0\n",
        "        FPR = FP / all_negatives if all_negatives > 0 else 0\n",
        "        fpr_values.append(FPR)\n",
        "        tpr_values.append(TPR)\n",
        "\n",
        "    return np.array(fpr_values), np.array(tpr_values), thresholds"
      ]
    },
    {
      "cell_type": "code",
      "execution_count": 26,
      "metadata": {
        "id": "ThAznN8jRJ5M"
      },
      "outputs": [],
      "source": [
        "# Get the trousers score for the probabilities\n",
        "trousers_scores = true_probs[:, 0]\n",
        "# Create labels (1 if true class is Trousers)\n",
        "y_true_trousers = (test_y == 1).astype(int)\n",
        "\n",
        "# Sort the scores and corresponding label\n",
        "indices = np.argsort(trousers_scores)\n",
        "trousers_scores_sorted = trousers_scores[indices]\n",
        "y_true_trousers_sorted = y_true_trousers[indices]\n",
        "\n",
        "trouser_fpr, trouser_tpr, _ = calculate_roc(\n",
        "    y_true_trousers_sorted,\n",
        "    trousers_scores_sorted,\n",
        "    1,\n",
        "    THRESHOLDS)"
      ]
    },
    {
      "cell_type": "code",
      "execution_count": 27,
      "metadata": {
        "colab": {
          "base_uri": "https://localhost:8080/"
        },
        "id": "aFxntqUWiCNT",
        "outputId": "b2282616-8dea-427c-b348-35a2b05bbd5e"
      },
      "outputs": [
        {
          "data": {
            "text/plain": [
              "array([0, 0, 1, ..., 1, 1, 1], shape=(2000,))"
            ]
          },
          "execution_count": 27,
          "metadata": {},
          "output_type": "execute_result"
        }
      ],
      "source": [
        "y_true_trousers_sorted = (y_true_trousers_sorted == 1).astype(int)\n",
        "y_true_trousers_sorted"
      ]
    },
    {
      "cell_type": "code",
      "execution_count": 28,
      "metadata": {
        "id": "tFZepRWmepwi"
      },
      "outputs": [],
      "source": [
        "# Get the pullovers score for the probabilities\n",
        "pullovers_scores = true_probs[:, 1]\n",
        "# Create labels (2 if true class is Pullovers)\n",
        "y_true_pullovers = (test_y == 2).astype(int)\n",
        "\n",
        "# Sort the scores and corresponding label\n",
        "indices = np.argsort(pullovers_scores)\n",
        "pullovers_scores_sorted = pullovers_scores[indices]\n",
        "y_true_pullovers_sorted = y_true_pullovers[indices]\n",
        "\n",
        "pullover_fpr, pullover_tpr, _ = calculate_roc(\n",
        "    y_true_pullovers_sorted,\n",
        "    pullovers_scores_sorted,\n",
        "    2,\n",
        "    THRESHOLDS)"
      ]
    },
    {
      "cell_type": "markdown",
      "metadata": {
        "id": "U2NWwbzonwly"
      },
      "source": [
        "#### Calculate AUC and Plot ROC Curves\n",
        "Note: I tried Bernoulli Classifier and Simple Classifier implement above and found out that Simple Classifier has slightly better AUC in Pullover (0.97 vs. 0.92), while AUC in Trouser remains the same. Therefore, I choose Simple Classifier"
      ]
    },
    {
      "cell_type": "code",
      "execution_count": 29,
      "metadata": {
        "colab": {
          "base_uri": "https://localhost:8080/",
          "height": 472
        },
        "id": "8RiaM_VFRJrJ",
        "outputId": "aed033a7-f042-4c78-aa3b-1280c74ffc03"
      },
      "outputs": [
        {
          "name": "stderr",
          "output_type": "stream",
          "text": [
            "/var/folders/66/1q8bft0j43j9_rs20_lp5zj80000gn/T/ipykernel_23308/1407858592.py:3: DeprecationWarning: `trapz` is deprecated. Use `trapezoid` instead, or one of the numerical integration functions in `scipy.integrate`.\n",
            "  trouser_auc = np.trapz(trouser_tpr[indices], trouser_fpr[indices])\n",
            "/var/folders/66/1q8bft0j43j9_rs20_lp5zj80000gn/T/ipykernel_23308/1407858592.py:6: DeprecationWarning: `trapz` is deprecated. Use `trapezoid` instead, or one of the numerical integration functions in `scipy.integrate`.\n",
            "  pullover_auc = np.trapz(pullover_tpr[indices], pullover_fpr[indices])\n"
          ]
        },
        {
          "data": {
            "image/png": "[encoded data removed]",
            "text/plain": [
              "<Figure size 640x480 with 1 Axes>"
            ]
          },
          "metadata": {},
          "output_type": "display_data"
        }
      ],
      "source": [
        "# Sort\n",
        "indices = np.argsort(trouser_fpr)\n",
        "trouser_auc = np.trapz(trouser_tpr[indices], trouser_fpr[indices])\n",
        "\n",
        "indices = np.argsort(pullover_fpr)\n",
        "pullover_auc = np.trapz(pullover_tpr[indices], pullover_fpr[indices])\n",
        "\n",
        "plt.plot(trouser_fpr, trouser_tpr, label=f\"ROC curve for class 1 (Trouser), AUC:{trouser_auc:.2f}\")\n",
        "plt.plot(pullover_fpr, pullover_tpr, label=f\"ROC curve for class 2 (Pullover), AUC:{pullover_auc:.2f}\")\n",
        "plt.plot([0, 1], [0, 1], \"k\", label=\"Random\")\n",
        "plt.xlabel(\"False Positive Rate\")\n",
        "plt.ylabel(\"True Positive Rate\")\n",
        "plt.title(\"ROC Curves for Trouser and Pullover (Bernoulli Naive Bayes)\")\n",
        "plt.legend(loc=\"lower right\")\n",
        "plt.show()"
      ]
    },
    {
      "cell_type": "markdown",
      "metadata": {
        "id": "VyNbhqfLZjCL"
      },
      "source": [
        "## Conver Bernoulli Naive Bayes Classifier into Individual Classes\n"
      ]
    },
    {
      "cell_type": "code",
      "execution_count": 30,
      "metadata": {
        "id": "MngO-gEYbjUN"
      },
      "outputs": [],
      "source": [
        "class BernoulliNaiveBayesClassifier:\n",
        "  def __init__(self, alpha=1.0, N=2):\n",
        "    self.alpha = alpha\n",
        "    self.N = N\n",
        "    self.classes = None\n",
        "    self.n_classes = 0\n",
        "    self.n_features = 0\n",
        "    self.likelihoods = None\n",
        "    self.prior_possibilities = None\n",
        "\n",
        "  def fit(self, X, y):\n",
        "    X = np.asarray(X)\n",
        "    y = np.asarray(y)\n",
        "\n",
        "    n_data, self.n_features = X.shape\n",
        "\n",
        "    self.classes = np.unique(y)\n",
        "    self.n_classes = len(self.classes)\n",
        "\n",
        "    self.likelihoods = np.zeros((self.n_classes, self.n_features), dtype=np.float64)\n",
        "    self.prior_possibilities = np.zeros(self.n_classes, dtype=np.float64)\n",
        "\n",
        "    # compute likelihoods\n",
        "    for index, cls in enumerate(self.classes):\n",
        "      X_class = X[y == cls]\n",
        "      n = X_class.shape[0]\n",
        "      self.prior_possibilities[index] = n / n_data\n",
        "      self.likelihoods[index] = (np.sum(X_class, axis=0) + self.alpha) / (n + self.alpha * self.N)\n",
        "\n",
        "  def predict(self, X):\n",
        "    X = np.asarray(X)\n",
        "    n_data = X.shape[0]\n",
        "\n",
        "    posteriors = np.zeros((n_data, self.n_classes), dtype=np.float64)\n",
        "\n",
        "    log_prob_ones = np.log(self.likelihoods)\n",
        "    log_prob_zeros = np.log(1 - self.likelihoods)\n",
        "\n",
        "    for index, cls in enumerate(self.classes):\n",
        "        log_prior = np.log(self.prior_possibilities[index])\n",
        "        log_bernoulli = np.sum(log_prob_ones[index] * X + log_prob_zeros[index] * (1 - X), axis=1)\n",
        "        posteriors[:, index] = log_prior + log_bernoulli\n",
        "    predictions = self.classes[np.argmax(posteriors, axis=1)]\n",
        "    return predictions\n",
        "\n",
        "  # The following part of code is copied and rewritten from the part that calculate ROC curve\n",
        "  def predict_proba(self, X):\n",
        "    X = np.asarray(X)\n",
        "    n_data = X.shape[0]\n",
        "\n",
        "    posteriors = np.zeros((n_data, self.n_classes), dtype=np.float64)\n",
        "\n",
        "    log_prob_ones = np.log(self.likelihoods)\n",
        "    log_prob_zeros = np.log(1 - self.likelihoods)\n",
        "\n",
        "    for index, cls in enumerate(self.classes):\n",
        "        log_prior = np.log(self.prior_possibilities[index])\n",
        "        log_bernoulli = np.sum(log_prob_ones[index] * X + log_prob_zeros[index] * (1 - X), axis=1)\n",
        "        posteriors[:, index] = log_prior + log_bernoulli\n",
        "\n",
        "    norm_probs = posteriors - np.max(posteriors, axis=1, keepdims=True)\n",
        "    true_probs = np.exp(norm_probs)\n",
        "    true_probs = true_probs / np.sum(true_probs, axis=1, keepdims=True)\n",
        "    return true_probs"
      ]
    },
    {
      "cell_type": "markdown",
      "metadata": {
        "id": "yunmLYV9wGwt"
      },
      "source": [
        "# 2. Implement Additional Machine Learning Model (use libraries here)\n",
        "Use Decision tree technique to differentiate classify samples between Trouser and Pullover. **You should use gini index for discriminatory features and maximum tree height should be 10**."
      ]
    },
    {
      "cell_type": "markdown",
      "metadata": {
        "id": "TpL-6nrmwXW3"
      },
      "source": [
        "### Import Libraries"
      ]
    },
    {
      "cell_type": "code",
      "execution_count": 31,
      "metadata": {
        "id": "_stKlmL3wW26"
      },
      "outputs": [],
      "source": [
        "from sklearn.tree import DecisionTreeClassifier\n",
        "from sklearn.metrics import classification_report, accuracy_score"
      ]
    },
    {
      "cell_type": "markdown",
      "metadata": {
        "id": "95dyvM9hwpsm"
      },
      "source": [
        "### Load data set again for seperate calculation"
      ]
    },
    {
      "cell_type": "code",
      "execution_count": 32,
      "metadata": {
        "colab": {
          "base_uri": "https://localhost:8080/"
        },
        "id": "kXLl3Y0WwpSd",
        "outputId": "c4c700cb-bc76-445a-f6f4-1a0609c8c90e"
      },
      "outputs": [
        {
          "name": "stdout",
          "output_type": "stream",
          "text": [
            "X's shape:  (12000, 784)\n",
            "y's shape:  (12000,)\n"
          ]
        }
      ],
      "source": [
        "train = pd.read_csv(\"train_images.csv\", header=None)\n",
        "label = pd.read_csv(\"train_labels.csv\", header=None)\n",
        "\n",
        "# apply masking, select only Trousers and Pullovers\n",
        "mask = (label[0]== 1) | (label[0]== 2)\n",
        "\n",
        "train_X = train[mask]\n",
        "train_y = label[mask]\n",
        "\n",
        "# Binarization\n",
        "train_X = binarization(train_X).to_numpy()\n",
        "train_y = train_y.to_numpy().reshape(-1)\n",
        "\n",
        "\n",
        "print(\"X's shape: \", train_X.shape)\n",
        "print(\"y's shape: \", train_y.shape)"
      ]
    },
    {
      "cell_type": "markdown",
      "metadata": {
        "id": "TkOtjvd3xmmT"
      },
      "source": [
        "### Create model\n",
        "parameters align with project's requirements"
      ]
    },
    {
      "cell_type": "code",
      "execution_count": 33,
      "metadata": {
        "id": "w7kLnjzJwR4d"
      },
      "outputs": [],
      "source": [
        "classifier = DecisionTreeClassifier(criterion=\"gini\", max_depth=10)"
      ]
    },
    {
      "cell_type": "markdown",
      "metadata": {
        "id": "ZBzK4aRIx9WL"
      },
      "source": [
        "### Fit and predict"
      ]
    },
    {
      "cell_type": "code",
      "execution_count": 34,
      "metadata": {
        "colab": {
          "base_uri": "https://localhost:8080/",
          "height": 81
        },
        "id": "svH23cQxx9He",
        "outputId": "0b011941-06d8-4ca0-b4b0-95b8fd61ab98"
      },
      "outputs": [
        {
          "data": {
            "text/html": [
              "<style>#sk-container-id-1 {\n",
              "  /* Definition of color scheme common for light and dark mode */\n",
              "  --sklearn-color-text: #000;\n",
              "  --sklearn-color-text-muted: #666;\n",
              "  --sklearn-color-line: gray;\n",
              "  /* Definition of color scheme for unfitted estimators */\n",
              "  --sklearn-color-unfitted-level-0: #fff5e6;\n",
              "  --sklearn-color-unfitted-level-1: #f6e4d2;\n",
              "  --sklearn-color-unfitted-level-2: #ffe0b3;\n",
              "  --sklearn-color-unfitted-level-3: chocolate;\n",
              "  /* Definition of color scheme for fitted estimators */\n",
              "  --sklearn-color-fitted-level-0: #f0f8ff;\n",
              "  --sklearn-color-fitted-level-1: #d4ebff;\n",
              "  --sklearn-color-fitted-level-2: #b3dbfd;\n",
              "  --sklearn-color-fitted-level-3: cornflowerblue;\n",
              "\n",
              "  /* Specific color for light theme */\n",
              "  --sklearn-color-text-on-default-background: var(--sg-text-color, var(--theme-code-foreground, var(--jp-content-font-color1, black)));\n",
              "  --sklearn-color-background: var(--sg-background-color, var(--theme-background, var(--jp-layout-color0, white)));\n",
              "  --sklearn-color-border-box: var(--sg-text-color, var(--theme-code-foreground, var(--jp-content-font-color1, black)));\n",
              "  --sklearn-color-icon: #696969;\n",
              "\n",
              "  @media (prefers-color-scheme: dark) {\n",
              "    /* Redefinition of color scheme for dark theme */\n",
              "    --sklearn-color-text-on-default-background: var(--sg-text-color, var(--theme-code-foreground, var(--jp-content-font-color1, white)));\n",
              "    --sklearn-color-background: var(--sg-background-color, var(--theme-background, var(--jp-layout-color0, #111)));\n",
              "    --sklearn-color-border-box: var(--sg-text-color, var(--theme-code-foreground, var(--jp-content-font-color1, white)));\n",
              "    --sklearn-color-icon: #878787;\n",
              "  }\n",
              "}\n",
              "\n",
              "#sk-container-id-1 {\n",
              "  color: var(--sklearn-color-text);\n",
              "}\n",
              "\n",
              "#sk-container-id-1 pre {\n",
              "  padding: 0;\n",
              "}\n",
              "\n",
              "#sk-container-id-1 input.sk-hidden--visually {\n",
              "  border: 0;\n",
              "  clip: rect(1px 1px 1px 1px);\n",
              "  clip: rect(1px, 1px, 1px, 1px);\n",
              "  height: 1px;\n",
              "  margin: -1px;\n",
              "  overflow: hidden;\n",
              "  padding: 0;\n",
              "  position: absolute;\n",
              "  width: 1px;\n",
              "}\n",
              "\n",
              "#sk-container-id-1 div.sk-dashed-wrapped {\n",
              "  border: 1px dashed var(--sklearn-color-line);\n",
              "  margin: 0 0.4em 0.5em 0.4em;\n",
              "  box-sizing: border-box;\n",
              "  padding-bottom: 0.4em;\n",
              "  background-color: var(--sklearn-color-background);\n",
              "}\n",
              "\n",
              "#sk-container-id-1 div.sk-container {\n",
              "  /* jupyter's `normalize.less` sets `[hidden] { display: none; }`\n",
              "     but bootstrap.min.css set `[hidden] { display: none !important; }`\n",
              "     so we also need the `!important` here to be able to override the\n",
              "     default hidden behavior on the sphinx rendered scikit-learn.org.\n",
              "     See: https://github.com/scikit-learn/scikit-learn/issues/21755 */\n",
              "  display: inline-block !important;\n",
              "  position: relative;\n",
              "}\n",
              "\n",
              "#sk-container-id-1 div.sk-text-repr-fallback {\n",
              "  display: none;\n",
              "}\n",
              "\n",
              "div.sk-parallel-item,\n",
              "div.sk-serial,\n",
              "div.sk-item {\n",
              "  /* draw centered vertical line to link estimators */\n",
              "  background-image: linear-gradient(var(--sklearn-color-text-on-default-background), var(--sklearn-color-text-on-default-background));\n",
              "  background-size: 2px 100%;\n",
              "  background-repeat: no-repeat;\n",
              "  background-position: center center;\n",
              "}\n",
              "\n",
              "/* Parallel-specific style estimator block */\n",
              "\n",
              "#sk-container-id-1 div.sk-parallel-item::after {\n",
              "  content: \"\";\n",
              "  width: 100%;\n",
              "  border-bottom: 2px solid var(--sklearn-color-text-on-default-background);\n",
              "  flex-grow: 1;\n",
              "}\n",
              "\n",
              "#sk-container-id-1 div.sk-parallel {\n",
              "  display: flex;\n",
              "  align-items: stretch;\n",
              "  justify-content: center;\n",
              "  background-color: var(--sklearn-color-background);\n",
              "  position: relative;\n",
              "}\n",
              "\n",
              "#sk-container-id-1 div.sk-parallel-item {\n",
              "  display: flex;\n",
              "  flex-direction: column;\n",
              "}\n",
              "\n",
              "#sk-container-id-1 div.sk-parallel-item:first-child::after {\n",
              "  align-self: flex-end;\n",
              "  width: 50%;\n",
              "}\n",
              "\n",
              "#sk-container-id-1 div.sk-parallel-item:last-child::after {\n",
              "  align-self: flex-start;\n",
              "  width: 50%;\n",
              "}\n",
              "\n",
              "#sk-container-id-1 div.sk-parallel-item:only-child::after {\n",
              "  width: 0;\n",
              "}\n",
              "\n",
              "/* Serial-specific style estimator block */\n",
              "\n",
              "#sk-container-id-1 div.sk-serial {\n",
              "  display: flex;\n",
              "  flex-direction: column;\n",
              "  align-items: center;\n",
              "  background-color: var(--sklearn-color-background);\n",
              "  padding-right: 1em;\n",
              "  padding-left: 1em;\n",
              "}\n",
              "\n",
              "\n",
              "/* Toggleable style: style used for estimator/Pipeline/ColumnTransformer box that is\n",
              "clickable and can be expanded/collapsed.\n",
              "- Pipeline and ColumnTransformer use this feature and define the default style\n",
              "- Estimators will overwrite some part of the style using the `sk-estimator` class\n",
              "*/\n",
              "\n",
              "/* Pipeline and ColumnTransformer style (default) */\n",
              "\n",
              "#sk-container-id-1 div.sk-toggleable {\n",
              "  /* Default theme specific background. It is overwritten whether we have a\n",
              "  specific estimator or a Pipeline/ColumnTransformer */\n",
              "  background-color: var(--sklearn-color-background);\n",
              "}\n",
              "\n",
              "/* Toggleable label */\n",
              "#sk-container-id-1 label.sk-toggleable__label {\n",
              "  cursor: pointer;\n",
              "  display: flex;\n",
              "  width: 100%;\n",
              "  margin-bottom: 0;\n",
              "  padding: 0.5em;\n",
              "  box-sizing: border-box;\n",
              "  text-align: center;\n",
              "  align-items: start;\n",
              "  justify-content: space-between;\n",
              "  gap: 0.5em;\n",
              "}\n",
              "\n",
              "#sk-container-id-1 label.sk-toggleable__label .caption {\n",
              "  font-size: 0.6rem;\n",
              "  font-weight: lighter;\n",
              "  color: var(--sklearn-color-text-muted);\n",
              "}\n",
              "\n",
              "#sk-container-id-1 label.sk-toggleable__label-arrow:before {\n",
              "  /* Arrow on the left of the label */\n",
              "  content: \"▸\";\n",
              "  float: left;\n",
              "  margin-right: 0.25em;\n",
              "  color: var(--sklearn-color-icon);\n",
              "}\n",
              "\n",
              "#sk-container-id-1 label.sk-toggleable__label-arrow:hover:before {\n",
              "  color: var(--sklearn-color-text);\n",
              "}\n",
              "\n",
              "/* Toggleable content - dropdown */\n",
              "\n",
              "#sk-container-id-1 div.sk-toggleable__content {\n",
              "  max-height: 0;\n",
              "  max-width: 0;\n",
              "  overflow: hidden;\n",
              "  text-align: left;\n",
              "  /* unfitted */\n",
              "  background-color: var(--sklearn-color-unfitted-level-0);\n",
              "}\n",
              "\n",
              "#sk-container-id-1 div.sk-toggleable__content.fitted {\n",
              "  /* fitted */\n",
              "  background-color: var(--sklearn-color-fitted-level-0);\n",
              "}\n",
              "\n",
              "#sk-container-id-1 div.sk-toggleable__content pre {\n",
              "  margin: 0.2em;\n",
              "  border-radius: 0.25em;\n",
              "  color: var(--sklearn-color-text);\n",
              "  /* unfitted */\n",
              "  background-color: var(--sklearn-color-unfitted-level-0);\n",
              "}\n",
              "\n",
              "#sk-container-id-1 div.sk-toggleable__content.fitted pre {\n",
              "  /* unfitted */\n",
              "  background-color: var(--sklearn-color-fitted-level-0);\n",
              "}\n",
              "\n",
              "#sk-container-id-1 input.sk-toggleable__control:checked~div.sk-toggleable__content {\n",
              "  /* Expand drop-down */\n",
              "  max-height: 200px;\n",
              "  max-width: 100%;\n",
              "  overflow: auto;\n",
              "}\n",
              "\n",
              "#sk-container-id-1 input.sk-toggleable__control:checked~label.sk-toggleable__label-arrow:before {\n",
              "  content: \"▾\";\n",
              "}\n",
              "\n",
              "/* Pipeline/ColumnTransformer-specific style */\n",
              "\n",
              "#sk-container-id-1 div.sk-label input.sk-toggleable__control:checked~label.sk-toggleable__label {\n",
              "  color: var(--sklearn-color-text);\n",
              "  background-color: var(--sklearn-color-unfitted-level-2);\n",
              "}\n",
              "\n",
              "#sk-container-id-1 div.sk-label.fitted input.sk-toggleable__control:checked~label.sk-toggleable__label {\n",
              "  background-color: var(--sklearn-color-fitted-level-2);\n",
              "}\n",
              "\n",
              "/* Estimator-specific style */\n",
              "\n",
              "/* Colorize estimator box */\n",
              "#sk-container-id-1 div.sk-estimator input.sk-toggleable__control:checked~label.sk-toggleable__label {\n",
              "  /* unfitted */\n",
              "  background-color: var(--sklearn-color-unfitted-level-2);\n",
              "}\n",
              "\n",
              "#sk-container-id-1 div.sk-estimator.fitted input.sk-toggleable__control:checked~label.sk-toggleable__label {\n",
              "  /* fitted */\n",
              "  background-color: var(--sklearn-color-fitted-level-2);\n",
              "}\n",
              "\n",
              "#sk-container-id-1 div.sk-label label.sk-toggleable__label,\n",
              "#sk-container-id-1 div.sk-label label {\n",
              "  /* The background is the default theme color */\n",
              "  color: var(--sklearn-color-text-on-default-background);\n",
              "}\n",
              "\n",
              "/* On hover, darken the color of the background */\n",
              "#sk-container-id-1 div.sk-label:hover label.sk-toggleable__label {\n",
              "  color: var(--sklearn-color-text);\n",
              "  background-color: var(--sklearn-color-unfitted-level-2);\n",
              "}\n",
              "\n",
              "/* Label box, darken color on hover, fitted */\n",
              "#sk-container-id-1 div.sk-label.fitted:hover label.sk-toggleable__label.fitted {\n",
              "  color: var(--sklearn-color-text);\n",
              "  background-color: var(--sklearn-color-fitted-level-2);\n",
              "}\n",
              "\n",
              "/* Estimator label */\n",
              "\n",
              "#sk-container-id-1 div.sk-label label {\n",
              "  font-family: monospace;\n",
              "  font-weight: bold;\n",
              "  display: inline-block;\n",
              "  line-height: 1.2em;\n",
              "}\n",
              "\n",
              "#sk-container-id-1 div.sk-label-container {\n",
              "  text-align: center;\n",
              "}\n",
              "\n",
              "/* Estimator-specific */\n",
              "#sk-container-id-1 div.sk-estimator {\n",
              "  font-family: monospace;\n",
              "  border: 1px dotted var(--sklearn-color-border-box);\n",
              "  border-radius: 0.25em;\n",
              "  box-sizing: border-box;\n",
              "  margin-bottom: 0.5em;\n",
              "  /* unfitted */\n",
              "  background-color: var(--sklearn-color-unfitted-level-0);\n",
              "}\n",
              "\n",
              "#sk-container-id-1 div.sk-estimator.fitted {\n",
              "  /* fitted */\n",
              "  background-color: var(--sklearn-color-fitted-level-0);\n",
              "}\n",
              "\n",
              "/* on hover */\n",
              "#sk-container-id-1 div.sk-estimator:hover {\n",
              "  /* unfitted */\n",
              "  background-color: var(--sklearn-color-unfitted-level-2);\n",
              "}\n",
              "\n",
              "#sk-container-id-1 div.sk-estimator.fitted:hover {\n",
              "  /* fitted */\n",
              "  background-color: var(--sklearn-color-fitted-level-2);\n",
              "}\n",
              "\n",
              "/* Specification for estimator info (e.g. \"i\" and \"?\") */\n",
              "\n",
              "/* Common style for \"i\" and \"?\" */\n",
              "\n",
              ".sk-estimator-doc-link,\n",
              "a:link.sk-estimator-doc-link,\n",
              "a:visited.sk-estimator-doc-link {\n",
              "  float: right;\n",
              "  font-size: smaller;\n",
              "  line-height: 1em;\n",
              "  font-family: monospace;\n",
              "  background-color: var(--sklearn-color-background);\n",
              "  border-radius: 1em;\n",
              "  height: 1em;\n",
              "  width: 1em;\n",
              "  text-decoration: none !important;\n",
              "  margin-left: 0.5em;\n",
              "  text-align: center;\n",
              "  /* unfitted */\n",
              "  border: var(--sklearn-color-unfitted-level-1) 1pt solid;\n",
              "  color: var(--sklearn-color-unfitted-level-1);\n",
              "}\n",
              "\n",
              ".sk-estimator-doc-link.fitted,\n",
              "a:link.sk-estimator-doc-link.fitted,\n",
              "a:visited.sk-estimator-doc-link.fitted {\n",
              "  /* fitted */\n",
              "  border: var(--sklearn-color-fitted-level-1) 1pt solid;\n",
              "  color: var(--sklearn-color-fitted-level-1);\n",
              "}\n",
              "\n",
              "/* On hover */\n",
              "div.sk-estimator:hover .sk-estimator-doc-link:hover,\n",
              ".sk-estimator-doc-link:hover,\n",
              "div.sk-label-container:hover .sk-estimator-doc-link:hover,\n",
              ".sk-estimator-doc-link:hover {\n",
              "  /* unfitted */\n",
              "  background-color: var(--sklearn-color-unfitted-level-3);\n",
              "  color: var(--sklearn-color-background);\n",
              "  text-decoration: none;\n",
              "}\n",
              "\n",
              "div.sk-estimator.fitted:hover .sk-estimator-doc-link.fitted:hover,\n",
              ".sk-estimator-doc-link.fitted:hover,\n",
              "div.sk-label-container:hover .sk-estimator-doc-link.fitted:hover,\n",
              ".sk-estimator-doc-link.fitted:hover {\n",
              "  /* fitted */\n",
              "  background-color: var(--sklearn-color-fitted-level-3);\n",
              "  color: var(--sklearn-color-background);\n",
              "  text-decoration: none;\n",
              "}\n",
              "\n",
              "/* Span, style for the box shown on hovering the info icon */\n",
              ".sk-estimator-doc-link span {\n",
              "  display: none;\n",
              "  z-index: 9999;\n",
              "  position: relative;\n",
              "  font-weight: normal;\n",
              "  right: .2ex;\n",
              "  padding: .5ex;\n",
              "  margin: .5ex;\n",
              "  width: min-content;\n",
              "  min-width: 20ex;\n",
              "  max-width: 50ex;\n",
              "  color: var(--sklearn-color-text);\n",
              "  box-shadow: 2pt 2pt 4pt #999;\n",
              "  /* unfitted */\n",
              "  background: var(--sklearn-color-unfitted-level-0);\n",
              "  border: .5pt solid var(--sklearn-color-unfitted-level-3);\n",
              "}\n",
              "\n",
              ".sk-estimator-doc-link.fitted span {\n",
              "  /* fitted */\n",
              "  background: var(--sklearn-color-fitted-level-0);\n",
              "  border: var(--sklearn-color-fitted-level-3);\n",
              "}\n",
              "\n",
              ".sk-estimator-doc-link:hover span {\n",
              "  display: block;\n",
              "}\n",
              "\n",
              "/* \"?\"-specific style due to the `<a>` HTML tag */\n",
              "\n",
              "#sk-container-id-1 a.estimator_doc_link {\n",
              "  float: right;\n",
              "  font-size: 1rem;\n",
              "  line-height: 1em;\n",
              "  font-family: monospace;\n",
              "  background-color: var(--sklearn-color-background);\n",
              "  border-radius: 1rem;\n",
              "  height: 1rem;\n",
              "  width: 1rem;\n",
              "  text-decoration: none;\n",
              "  /* unfitted */\n",
              "  color: var(--sklearn-color-unfitted-level-1);\n",
              "  border: var(--sklearn-color-unfitted-level-1) 1pt solid;\n",
              "}\n",
              "\n",
              "#sk-container-id-1 a.estimator_doc_link.fitted {\n",
              "  /* fitted */\n",
              "  border: var(--sklearn-color-fitted-level-1) 1pt solid;\n",
              "  color: var(--sklearn-color-fitted-level-1);\n",
              "}\n",
              "\n",
              "/* On hover */\n",
              "#sk-container-id-1 a.estimator_doc_link:hover {\n",
              "  /* unfitted */\n",
              "  background-color: var(--sklearn-color-unfitted-level-3);\n",
              "  color: var(--sklearn-color-background);\n",
              "  text-decoration: none;\n",
              "}\n",
              "\n",
              "#sk-container-id-1 a.estimator_doc_link.fitted:hover {\n",
              "  /* fitted */\n",
              "  background-color: var(--sklearn-color-fitted-level-3);\n",
              "}\n",
              "</style><div id=\"sk-container-id-1\" class=\"sk-top-container\"><div class=\"sk-text-repr-fallback\"><pre>DecisionTreeClassifier(max_depth=10)</pre><b>In a Jupyter environment, please rerun this cell to show the HTML representation or trust the notebook. <br />On GitHub, the HTML representation is unable to render, please try loading this page with nbviewer.org.</b></div><div class=\"sk-container\" hidden><div class=\"sk-item\"><div class=\"sk-estimator fitted sk-toggleable\"><input class=\"sk-toggleable__control sk-hidden--visually\" id=\"sk-estimator-id-1\" type=\"checkbox\" checked><label for=\"sk-estimator-id-1\" class=\"sk-toggleable__label fitted sk-toggleable__label-arrow\"><div><div>DecisionTreeClassifier</div></div><div><a class=\"sk-estimator-doc-link fitted\" rel=\"noreferrer\" target=\"_blank\" href=\"https://scikit-learn.org/1.6/modules/generated/sklearn.tree.DecisionTreeClassifier.html\">?<span>Documentation for DecisionTreeClassifier</span></a><span class=\"sk-estimator-doc-link fitted\">i<span>Fitted</span></span></div></label><div class=\"sk-toggleable__content fitted\"><pre>DecisionTreeClassifier(max_depth=10)</pre></div> </div></div></div></div>"
            ],
            "text/plain": [
              "DecisionTreeClassifier(max_depth=10)"
            ]
          },
          "execution_count": 34,
          "metadata": {},
          "output_type": "execute_result"
        }
      ],
      "source": [
        "classifier.fit(train_X, train_y)"
      ]
    },
    {
      "cell_type": "code",
      "execution_count": 35,
      "metadata": {
        "id": "sVFiJce3yI3B"
      },
      "outputs": [],
      "source": [
        "# Use test data\n",
        "test = pd.read_csv(\"test_images.csv\", header=None)\n",
        "test_label = pd.read_csv(\"test_labels.csv\", header=None)\n",
        "\n",
        "mask = (test_label[0]== 1) | (test_label[0]== 2)\n",
        "\n",
        "test_X = test[mask]\n",
        "test_X = binarization(test_X).to_numpy()\n",
        "test_y = test_label[mask].to_numpy()"
      ]
    },
    {
      "cell_type": "code",
      "execution_count": 36,
      "metadata": {
        "id": "eJOxEb2swR2j"
      },
      "outputs": [],
      "source": [
        "# Make prediction\n",
        "predictions = classifier.predict(test_X)"
      ]
    },
    {
      "cell_type": "code",
      "execution_count": 37,
      "metadata": {
        "colab": {
          "base_uri": "https://localhost:8080/"
        },
        "id": "oZWlYYrmwR0j",
        "outputId": "391f5390-25a0-4d45-f462-cea6f1db5948"
      },
      "outputs": [
        {
          "name": "stdout",
          "output_type": "stream",
          "text": [
            "Acc: 97.30%\n",
            "====================================================================================================\n",
            "Classification Report:                precision    recall  f1-score   support\n",
            "\n",
            "           1       0.97      0.97      0.97      1000\n",
            "           2       0.97      0.97      0.97      1000\n",
            "\n",
            "    accuracy                           0.97      2000\n",
            "   macro avg       0.97      0.97      0.97      2000\n",
            "weighted avg       0.97      0.97      0.97      2000\n",
            "\n"
          ]
        }
      ],
      "source": [
        "# Evaluate\n",
        "acc = accuracy_score(test_y, predictions)\n",
        "print(f\"Acc: {acc*100:.2f}%\")\n",
        "print(\"=\" * 100)\n",
        "print(\"Classification Report: \", classification_report(test_y, predictions))"
      ]
    },
    {
      "cell_type": "markdown",
      "metadata": {
        "id": "6SLpcTU9WGgO"
      },
      "source": [
        "### Probabilities, Predictions and ROC"
      ]
    },
    {
      "cell_type": "code",
      "execution_count": 38,
      "metadata": {
        "colab": {
          "base_uri": "https://localhost:8080/"
        },
        "id": "tK2ndepSWSCm",
        "outputId": "13451a54-f2bb-41fb-f9b7-2502123b039f"
      },
      "outputs": [
        {
          "name": "stdout",
          "output_type": "stream",
          "text": [
            "Probabilities:  [[0.         1.        ]\n",
            " [0.99745995 0.00254005]\n",
            " [0.99745995 0.00254005]\n",
            " ...\n",
            " [0.99745995 0.00254005]\n",
            " [1.         0.        ]\n",
            " [0.99745995 0.00254005]]\n"
          ]
        }
      ],
      "source": [
        "probabilities = classifier.predict_proba(test_X)\n",
        "print(\"Probabilities: \", probabilities)"
      ]
    },
    {
      "cell_type": "code",
      "execution_count": 39,
      "metadata": {
        "colab": {
          "base_uri": "https://localhost:8080/"
        },
        "id": "O56OaApuWSAe",
        "outputId": "f21ddb2b-0d22-4ba5-b088-ffab0ca32621"
      },
      "outputs": [
        {
          "name": "stdout",
          "output_type": "stream",
          "text": [
            "Predictions:  [2 1 1 ... 1 1 1]\n"
          ]
        }
      ],
      "source": [
        "predictions = classifier.predict(test_X)\n",
        "print(\"Predictions: \", predictions)"
      ]
    },
    {
      "cell_type": "code",
      "execution_count": 40,
      "metadata": {
        "colab": {
          "base_uri": "https://localhost:8080/",
          "height": 472
        },
        "id": "ELalZ1QWWR-X",
        "outputId": "adc49d1c-43b4-4a2b-d702-ea20ca1f5e9b"
      },
      "outputs": [
        {
          "data": {
            "image/png": "[encoded data removed]",
            "text/plain": [
              "<Figure size 640x480 with 1 Axes>"
            ]
          },
          "metadata": {},
          "output_type": "display_data"
        }
      ],
      "source": [
        "from sklearn.metrics import roc_curve, auc\n",
        "\n",
        "trousers_prob = probabilities[:, 0]\n",
        "pullovers_prob = probabilities[:, 1]\n",
        "\n",
        "# Convert test_y to Trousers 1, Pullovers 0 | Trousers 0, Pullovers 1\n",
        "test_y_t = (test_y == 1).astype(int)\n",
        "test_y_p = (test_y == 2).astype(int)\n",
        "\n",
        "# Trousers\n",
        "fpr_t, tpr_t, _ = roc_curve(test_y_t, trousers_prob)\n",
        "roc_auc_t = auc(fpr_t, tpr_t)\n",
        "\n",
        "# Pullovers\n",
        "fpr_p, tpr_p, _= roc_curve(test_y_p, pullovers_prob)\n",
        "roc_auc_p = auc(fpr_p, tpr_p)\n",
        "\n",
        "\n",
        "plt.plot(fpr_t, tpr_t, label=f\"ROC curve for class 1 (Trouser), AUC:{roc_auc_t:.2f}\")\n",
        "plt.plot(fpr_p, tpr_p, label=f\"ROC curve for class 2 (Pullover), AUC:{roc_auc_p:.2f}\")\n",
        "plt.plot([0, 1], [0, 1], \"k\", label=\"Random\")\n",
        "plt.xlabel(\"False Positive Rate\")\n",
        "plt.ylabel(\"True Positive Rate\")\n",
        "plt.title(\"ROC Curves for Trouser and Pullover (Decision Tree)\")\n",
        "plt.legend(loc=\"lower right\")\n",
        "plt.show()\n"
      ]
    },
    {
      "cell_type": "markdown",
      "metadata": {
        "id": "71QoQvvw11Eu"
      },
      "source": [
        "# 3. Comparison and Analysis:"
      ]
    },
    {
      "cell_type": "code",
      "execution_count": 41,
      "metadata": {
        "id": "U9NTrf1HwRyb"
      },
      "outputs": [],
      "source": [
        "# Import more libraries\n",
        "from sklearn.metrics import precision_score, recall_score"
      ]
    },
    {
      "cell_type": "code",
      "execution_count": 42,
      "metadata": {
        "id": "wfSUysM-wRwM"
      },
      "outputs": [],
      "source": [
        "# Load data and process again for seperation\n",
        "train = pd.read_csv(\"train_images.csv\", header=None)\n",
        "label = pd.read_csv(\"train_labels.csv\", header=None)\n",
        "\n",
        "mask = (label[0]== 1) | (label[0]== 2)\n",
        "\n",
        "train_X = train[mask]\n",
        "train_y = label[mask]\n",
        "\n",
        "train_X = binarization(train_X).to_numpy()\n",
        "train_y = train_y.to_numpy().reshape(-1)\n",
        "\n",
        "test = pd.read_csv(\"test_images.csv\", header=None)\n",
        "test_label = pd.read_csv(\"test_labels.csv\", header=None)\n",
        "\n",
        "mask = (test_label[0]== 1) | (test_label[0]== 2)\n",
        "\n",
        "test_X = test[mask]\n",
        "test_X = binarization(test_X).to_numpy()\n",
        "test_y = test_label[mask].to_numpy().reshape(-1)"
      ]
    },
    {
      "cell_type": "code",
      "execution_count": 43,
      "metadata": {
        "colab": {
          "base_uri": "https://localhost:8080/"
        },
        "id": "WMrAJTY6wRt2",
        "outputId": "3a522cc0-afcb-403b-8618-a00157699e70"
      },
      "outputs": [
        {
          "name": "stdout",
          "output_type": "stream",
          "text": [
            "Bernoulli Naive Bayes Test Accuracy: 93.40%\n",
            "Bernoulli Naive Bayes Train Accuracy: 93.18%\n",
            "Decision Tree Test Accuracy: 97.35%\n",
            "Decision Tree Test Accuracy: 99.17%\n"
          ]
        }
      ],
      "source": [
        "# Naive Bayes Bernoulli for test and train\n",
        "#--------------------------------------\n",
        "# Test\n",
        "#--------------------------------------\n",
        "bernoulli_classifier = BernoulliNaiveBayesClassifier()\n",
        "bernoulli_classifier.fit(train_X, train_y)\n",
        "bernoulli_test_predict = bernoulli_classifier.predict(test_X)\n",
        "\n",
        "#--------------------------------------\n",
        "# Train\n",
        "#--------------------------------------\n",
        "bernoulli_train_predict = bernoulli_classifier.predict(train_X)\n",
        "\n",
        "print(f\"Bernoulli Naive Bayes Test Accuracy: {np.mean(bernoulli_test_predict == test_y)* 100:.2f}%\")\n",
        "print(f\"Bernoulli Naive Bayes Train Accuracy: {np.mean(bernoulli_train_predict == train_y)* 100:.2f}%\")\n",
        "\n",
        "\n",
        "\n",
        "# Decision Tree Classifier\n",
        "tree_classifier = DecisionTreeClassifier(criterion=\"gini\", max_depth=10)\n",
        "tree_classifier.fit(train_X, train_y)\n",
        "#--------------------------------------\n",
        "# Test\n",
        "#--------------------------------------\n",
        "dt_test_pred = tree_classifier.predict(test_X)\n",
        "\n",
        "#--------------------------------------\n",
        "# Train\n",
        "#--------------------------------------\n",
        "dt_train_pred = tree_classifier.predict(train_X)\n",
        "\n",
        "print(f\"Decision Tree Test Accuracy: {accuracy_score(test_y, dt_test_pred)*100:.2f}%\")\n",
        "print(f\"Decision Tree Test Accuracy: {accuracy_score(train_y, dt_train_pred)*100:.2f}%\")"
      ]
    },
    {
      "cell_type": "code",
      "execution_count": 44,
      "metadata": {
        "id": "3sXM1ne48n62"
      },
      "outputs": [],
      "source": [
        "# Class-wise comparision\n",
        "def get_metrics(true_values, predictions, classes, model_name: str, dataset: str):\n",
        "  acc = accuracy_score(true_values, predictions)\n",
        "  precision = precision_score(true_values, predictions, average=None, labels=classes)\n",
        "  recall = recall_score(true_values, predictions, average=None, labels=classes)\n",
        "  print(f\"{model_name} - {dataset}:\")\n",
        "  print(f\"Overall Accuracy: {acc:.2f}\")\n",
        "  print(f\"Precision (Trousers, Pullovers): ({precision[0]:.2f}, {precision[1]:.2f})\")\n",
        "  print(f\"Recall (Trousers, Pullovers): ({recall[0]:.2f}, {recall[1]:.2f})\")\n",
        "  print(\"=\" * 100)"
      ]
    },
    {
      "cell_type": "code",
      "execution_count": 45,
      "metadata": {
        "colab": {
          "base_uri": "https://localhost:8080/"
        },
        "id": "xPsKicdY-Vyk",
        "outputId": "a6e1d954-de48-48ee-caeb-949c852dc495"
      },
      "outputs": [
        {
          "name": "stdout",
          "output_type": "stream",
          "text": [
            "Bernoulli Naive Bayes - Test Dataset:\n",
            "Overall Accuracy: 0.93\n",
            "Precision (Trousers, Pullovers): (0.91, 0.96)\n",
            "Recall (Trousers, Pullovers): (0.96, 0.90)\n",
            "====================================================================================================\n",
            "Bernoulli  Naive Bayes - Train Dataset:\n",
            "Overall Accuracy: 0.93\n",
            "Precision (Trousers, Pullovers): (0.90, 0.97)\n",
            "Recall (Trousers, Pullovers): (0.97, 0.90)\n",
            "====================================================================================================\n",
            "Decision Tree - Test Dataset:\n",
            "Overall Accuracy: 0.97\n",
            "Precision (Trousers, Pullovers): (0.98, 0.97)\n",
            "Recall (Trousers, Pullovers): (0.97, 0.98)\n",
            "====================================================================================================\n",
            "Decision Tree - Train Dataset:\n",
            "Overall Accuracy: 0.99\n",
            "Precision (Trousers, Pullovers): (1.00, 0.99)\n",
            "Recall (Trousers, Pullovers): (0.99, 1.00)\n",
            "====================================================================================================\n",
            "Train class counts: [6000, 6000]\n",
            "Test class counts: [1000, 1000]\n"
          ]
        }
      ],
      "source": [
        "bernoulli_naive_bayes_test = get_metrics(test_y, bernoulli_test_predict, classes, \"Bernoulli Naive Bayes\", \"Test Dataset\")\n",
        "bernoulli_naive_bayes_train = get_metrics(train_y, bernoulli_train_predict, classes, \"Bernoulli  Naive Bayes\", \"Train Dataset\")\n",
        "decision_tree_test = get_metrics(test_y, dt_test_pred, classes, \"Decision Tree\", \"Test Dataset\")\n",
        "decision_tree_train = get_metrics(train_y, dt_train_pred, classes, \"Decision Tree\", \"Train Dataset\")\n",
        "\n",
        "# Metrics\n",
        "bernoulli_naive_bayes_test\n",
        "bernoulli_naive_bayes_train\n",
        "decision_tree_test\n",
        "decision_tree_train\n",
        "\n",
        "# Data distribution\n",
        "print(\"Train class counts:\", [n_train//2, n_train//2])\n",
        "print(\"Test class counts:\", [n_test//2, n_test//2])"
      ]
    },
    {
      "cell_type": "markdown",
      "metadata": {
        "id": "l3S43o2KBJJQ"
      },
      "source": [
        "### Q. Based on the accuracy on training and test sets, comment if any of the classifiers suffer from underfitting or overfitting. Explain why so."
      ]
    },
    {
      "cell_type": "markdown",
      "metadata": {
        "id": "k-LY--CTBoAb"
      },
      "source": [
        "\n",
        "1. Bernoulli Naive Bayes:\n",
        "* There is no difference between training accuracy and test accuracy, indicating that the model has the same performance in either training datasets and test datasets. Therefore, there is no overfitting occurred. In addition, the two accuracies are both higher than 70%, indicating no sign of underfitting.\n",
        "2. Decision Tree: \n",
        "* The difference between training accuracy and testing accuracy is almost 2%, and the overall accuracy on traning dataset is almost perfect, making the decision tree classifier here having a sign of slightly-overfitting. In order to dive in more, I visualize the training/test errors for Decision Tree to check if my statement aligns with the outcomes.\n",
        "According to the plot, max_depth = 10 is not severely overfitting, but trees with lower depth (e.g., 7-9) might keep the model less complex and reduce some overfitting risk."
      ]
    },
    {
      "cell_type": "code",
      "execution_count": 46,
      "metadata": {
        "id": "eGOvAYBBM3J0"
      },
      "outputs": [],
      "source": [
        "# Range of max_depth values\n",
        "depths = range(1, 21)\n",
        "dt_train_errors = []\n",
        "dt_test_errors = []\n",
        "\n",
        "# Compute errors for each max_depth\n",
        "for depth in depths:\n",
        "    classifier = DecisionTreeClassifier(criterion=\"gini\", max_depth=depth)\n",
        "    classifier.fit(train_X, train_y)\n",
        "    # Training error\n",
        "    dt_train_pred = classifier.predict(train_X)\n",
        "    train_acc = accuracy_score(train_y, dt_train_pred)\n",
        "    train_error = 1 - train_acc\n",
        "    dt_train_errors.append(train_error)\n",
        "    # Test error\n",
        "    dt_test_pred = classifier.predict(test_X)\n",
        "    test_acc = accuracy_score(test_y, dt_test_pred)\n",
        "    test_error = 1 - test_acc\n",
        "    dt_test_errors.append(test_error)"
      ]
    },
    {
      "cell_type": "code",
      "execution_count": 47,
      "metadata": {
        "colab": {
          "base_uri": "https://localhost:8080/",
          "height": 599
        },
        "id": "oKZBDqlAOoT-",
        "outputId": "bcf055d0-a8d6-4d48-9271-4e0c9502e3a2"
      },
      "outputs": [
        {
          "name": "stdout",
          "output_type": "stream",
          "text": [
            "Train error at max_depth=10: 0.008333333333333304\n",
            "Test error at max_depth=10: 0.027000000000000024\n"
          ]
        },
        {
          "data": {
            "image/png": "[encoded data removed]",
            "text/plain": [
              "<Figure size 1000x600 with 1 Axes>"
            ]
          },
          "metadata": {},
          "output_type": "display_data"
        }
      ],
      "source": [
        "# Print training and test errors at max_depth=10\n",
        "depth_index = 10 - 1\n",
        "print(\"Train error at max_depth=10:\", dt_train_errors[depth_index])\n",
        "print(\"Test error at max_depth=10:\", dt_test_errors[depth_index])\n",
        "\n",
        "# Plot\n",
        "plt.figure(figsize=(10, 6))\n",
        "\n",
        "# Decision Tree curves\n",
        "plt.plot(depths, dt_train_errors, label=\"Decision Tree Train Error\", linewidth=2)\n",
        "plt.plot(depths, dt_test_errors, label=\"Decision Tree Test Error\", linewidth=2)\n",
        "\n",
        "plt.xlabel(\"Decision Tree max_depth\")\n",
        "plt.ylabel(\"Error\")\n",
        "plt.title(\"Training and Test Error in different depth\")\n",
        "plt.legend()\n",
        "plt.grid(True, linestyle=\"--\", alpha=0.7)\n",
        "\n",
        "\n",
        "\n",
        "# Mark max_depth = 10 with a vertical line\n",
        "plt.axvline(x=10, color=\"red\", linestyle=\"--\", label=\"max_depth = 10\")\n",
        "\n",
        "# Optionally, annotate the errors at max_depth = 10\n",
        "plt.annotate(f\"Train Err: {dt_train_errors[depth_index]:.3f}\", xy=(11, dt_train_errors[depth_index]),\n",
        "             xytext=(10, dt_train_errors[depth_index]))\n",
        "plt.annotate(f\"Test Err: {dt_test_errors[depth_index]:.3f}\", xy=(11, dt_test_errors[depth_index]),\n",
        "             xytext=(10, dt_test_errors[depth_index]))\n",
        "\n",
        "\n",
        "plt.show()"
      ]
    },
    {
      "cell_type": "markdown",
      "metadata": {
        "id": "ohD2MvLHBXhq"
      },
      "source": [
        "### Q. Based on the data distribution, should we choose accuracy as the main metric? or should it be precision or recall? Explain the reason. The main metric should be able to assess model’s correct performance (No diplomatic answers)."
      ]
    },
    {
      "cell_type": "markdown",
      "metadata": {
        "id": "SAOY44vbBo3F"
      },
      "source": [
        "Answer:\n",
        "* Since there are equal numbers of Trousers and Pullovers in both training datasets and test datasets, and there is no actual harm in real world or penalization to the model if it classify the item wrong (either classify a trouser as pullover or vice versa), we could say that accuracy is sufficient for the purpose of being a main metric."
      ]
    },
    {
      "cell_type": "markdown",
      "metadata": {
        "id": "JfEUtdetBXK6"
      },
      "source": [
        "### Q. Compare the strengths and weaknesses of each model. From the test set, you can share some examples correctly predicted by one model but mispredicted by another."
      ]
    },
    {
      "cell_type": "markdown",
      "metadata": {
        "id": "7rLinJQiWNhv"
      },
      "source": [
        "Answer:\n",
        "1. Decision Tree:\n",
        "* Strength:\n",
        "    *  Can find the most discriminative pixels and make decisions based on them.\n",
        "* Weakness:\n",
        "    * If the tree grows too large, it will easily overfit the training data.\n",
        "    * Not good at dealing noises. (More on this in the following bulletpoint)\n",
        "\n",
        "2. Naive Bayes:\n",
        "* Strength:\n",
        "    * Simple to implement from scratch, and it is easy to compute and train.\n",
        "    * Make good classification on images that have large areas of black or white\n",
        "* Weakness:\n",
        "    * Not good at classifying images with specific details. (More on this in the following bulletpoint)\n",
        "3. Share some examples of wrong predictions for each models:\n",
        "* I create a function that can list the wrong prediction(including its probabilities) according its index in the training data.\n",
        "* After filtering the wrong results, I pick the first 10 data points and visualize them.\n",
        "* From the visualization, we can see that:\n",
        "    * In cases the Decision Tree mis-predict:\n",
        "        *  The model is not good at classifying images that have small noise pixels inside a silhouette. If a pullover image has black pixels inside a large area of white pixels, it may predict the wrong class.\n",
        "    * In cases that Naive Bayes mis-predict:\n",
        "        * The model is not good at interpreting small details, like index 61, 113, 119. (could wrongly predict images that have two seperate lines of white pixels which looks like trouser legs)"
      ]
    },
    {
      "cell_type": "code",
      "execution_count": 48,
      "metadata": {
        "id": "U6yBhEjvTgrQ"
      },
      "outputs": [],
      "source": [
        "def find_misprediction(X, true_values, model):\n",
        "  pred_y = model.predict(X)\n",
        "  # Find the index of mis-predicted data\n",
        "  mispredict_index = np.where(pred_y != true_values)[0]\n",
        "\n",
        "  # Filter the mis-predicted data using the index found above\n",
        "  mispredict_X = X[mispredict_index]\n",
        "  mispredict_true_values = true_values[mispredict_index]\n",
        "  mispredict_pred_y = pred_y[mispredict_index]\n",
        "  mispredict_prob = model.predict_proba(mispredict_X)\n",
        "\n",
        "  return mispredict_index, mispredict_X, mispredict_true_values, mispredict_pred_y, mispredict_prob"
      ]
    },
    {
      "cell_type": "code",
      "execution_count": 49,
      "metadata": {
        "id": "CGIMeQK4T-pD"
      },
      "outputs": [],
      "source": [
        "# Find 3 mis-predicted samples:\n",
        "mispredict_index_dt, mispredict_X_dt, mispredict_true_dt, mispredict_pred_dt, mispredict_prob_dt = find_misprediction(test_X, test_y, tree_classifier)\n",
        "mispredict_index_nb, mispredict_X_nb, mispredict_true_nb, mispredict_pred_nb, mispredict_prob_nb = find_misprediction(test_X, test_y, bernoulli_classifier)"
      ]
    },
    {
      "cell_type": "code",
      "execution_count": 50,
      "metadata": {
        "id": "MlmdngcKTgnx"
      },
      "outputs": [
        {
          "data": {
            "image/png": "[encoded data removed]",
            "text/plain": [
              "<Figure size 3000x600 with 10 Axes>"
            ]
          },
          "metadata": {},
          "output_type": "display_data"
        }
      ],
      "source": [
        "# Plot 10 mis-predicted samples for Decision Tree\n",
        "plt.figure(figsize=(30, 6))\n",
        "plt.suptitle(\"Mis-predicted samples for Decision Tree\")\n",
        "for i in range(10):\n",
        "    idx = mispredict_index_dt[i]\n",
        "    plt.subplot(1, 10, i + 1)\n",
        "    plt.imshow(mispredict_X_dt[i].reshape(28, 28), cmap=\"gray\")\n",
        "    plt.title(f\"Index: {idx}\\nTrue: {mispredict_true_dt[i]}\\nPred: {mispredict_pred_dt[i]}\\nProbs of Trousers: {mispredict_prob_dt[i][0]*100:.2f}%\\nProbs of Pullovers: {mispredict_prob_dt[i][1]*100:.2f}%\")\n",
        "    plt.axis(\"off\")\n",
        "plt.show()"
      ]
    },
    {
      "cell_type": "code",
      "execution_count": 51,
      "metadata": {
        "id": "Q5KiotGDTgld"
      },
      "outputs": [
        {
          "data": {
            "image/png": "[encoded data removed]",
            "text/plain": [
              "<Figure size 3000x600 with 10 Axes>"
            ]
          },
          "metadata": {},
          "output_type": "display_data"
        }
      ],
      "source": [
        "# Plot 10 mis-predicted samples for Naive Bayes\n",
        "plt.figure(figsize=(30, 6))\n",
        "plt.suptitle(\"Mis-predicted samples for Naive Bayes\")\n",
        "for i in range(10):\n",
        "    idx = mispredict_index_nb[i]\n",
        "    plt.subplot(1, 10, i + 1)\n",
        "    plt.imshow(mispredict_X_nb[i].reshape(28, 28), cmap=\"gray\")\n",
        "    plt.title(f\"Index: {idx}\\nTrue: {mispredict_true_nb[i]}\\nPred: {mispredict_pred_nb[i]}\\nProbs of Trousers: {mispredict_prob_nb[i][0]*100:.2f}%\\nProbs of Pullovers: {mispredict_prob_nb[i][1]*100:.2f}%\")\n",
        "    plt.axis(\"off\")\n",
        "plt.show()"
      ]
    },
    {
      "cell_type": "markdown",
      "metadata": {},
      "source": [
        "* From the \"manual\" check below, we could find the index 11 of the data is correctly predicted by Decision Tree, but Naive Bayes failed (being listes in the images above)\n",
        "* Also, index 6 of the data is correctly predicted by Naive Bayes, but Decision Tree did not (also being listed in the images above)\n",
        "* Note: we can see that the data at index 61 is predicted wrong by both models"
      ]
    },
    {
      "cell_type": "code",
      "execution_count": 52,
      "metadata": {},
      "outputs": [
        {
          "name": "stdout",
          "output_type": "stream",
          "text": [
            "Check Decision Tree correctly predicted but Naive Bayes mis-predicted:\n",
            "Decision Tree's prediction: (position 0 is Trousers, position 1 is Pullovers):  [0. 1.]\n",
            "True Label (1 is Trouser, 2 is Pullover): 2\n",
            "====================================================================================================\n",
            "Check Naive Bayes correctly predicted but Decision Tree mis-predicted:\n",
            "Naive Bayes' prediction: (position 0 is Trousers, position 1 is Pullovers):  [0. 1.]\n",
            "True Label (1 is Trouser, 2 is Pullover): 2\n"
          ]
        }
      ],
      "source": [
        "# Radomly check whether an item mis-predicted by Decision Tree is correctly predicted by Naive Bayes (and vice versa)\n",
        "print(\"Check Decision Tree correctly predicted but Naive Bayes mis-predicted:\")\n",
        "print(\"Decision Tree's prediction: (position 0 is Trousers, position 1 is Pullovers): \", tree_classifier.predict_proba(test_X)[11])\n",
        "print(\"True Label (1 is Trouser, 2 is Pullover):\", test_y[11])\n",
        "print(\"=\"*100)\n",
        "print(\"Check Naive Bayes correctly predicted but Decision Tree mis-predicted:\")\n",
        "print(\"Naive Bayes' prediction: (position 0 is Trousers, position 1 is Pullovers): \", bernoulli_classifier.predict_proba(test_X)[6])\n",
        "print(\"True Label (1 is Trouser, 2 is Pullover):\", test_y[6])"
      ]
    },
    {
      "cell_type": "markdown",
      "metadata": {
        "id": "0SHgXAb2BpZj"
      },
      "source": [
        "# 4. Bonus Section\n",
        "In binarization, vary the threshold ‘del’ from 100 to 200 in the interval of 10. Basically, new thresholds would be 100, 110, 120, 130, and so until 200. Retrain the models for these thresholds of binarization and select the Naive bayes and decision tree giving the best performance according to the main metric. Explain and analyze why certain threshold yielded the best performance."
      ]
    },
    {
      "cell_type": "markdown",
      "metadata": {},
      "source": [
        "Answer:\n",
        "* Best Performance:\n",
        "    * Bernoulli Naive Bayes: Threshold: 100, Test Acc.: 95%\n",
        "    * Decision Tree: Threshold: 110, Test Acc.: 98%\n",
        "* Why Lower Threshold Work:\n",
        "    * The binarization function is converting lighter pixels (intensity >= threshold) into 1.\n",
        "    * In cmap, 1 is displayed as white and 0 is displayed as black. Thus, lower threshold means we have more whites.\n",
        "    * Low threshold will perserve more details on the edges of one image, and provides more information to the models\n",
        "* Why Higher Threshold Doesn't Work:\n",
        "    * As Fashion MNIST datasets are all grayscaled, higher threshold means fewer pixels are converted into 1 (Given the current implmentation of our binaizarion function)\n",
        "    * Fewer pixels are converted into 1 means we are creating sparser binary images, making images less representative as clothings. (Image might be mostly 0s, meaning it is darker)"
      ]
    },
    {
      "cell_type": "code",
      "execution_count": 53,
      "metadata": {
        "id": "gBnkSqZo7UGi"
      },
      "outputs": [],
      "source": [
        "# Load data again\n",
        "train_X = pd.read_csv(\"train_images.csv\", header=None)\n",
        "train_y = pd.read_csv(\"train_labels.csv\", header=None)\n",
        "test_X = pd.read_csv(\"test_images.csv\", header=None)\n",
        "test_y = pd.read_csv(\"test_labels.csv\", header=None)\n",
        "\n",
        "train_mask = (train_y[0]== 1) | (train_y[0]== 2)\n",
        "test_mask = (test_y[0]== 1) | (test_y[0]== 2)\n",
        "\n",
        "train_X = train_X[train_mask]\n",
        "train_y = train_y[train_mask].to_numpy().reshape(-1)\n",
        "test_X = test_X[test_mask]\n",
        "test_y = test_y[test_mask].to_numpy().reshape(-1)"
      ]
    },
    {
      "cell_type": "code",
      "execution_count": 54,
      "metadata": {},
      "outputs": [],
      "source": [
        "# Redefine the binarization function\n",
        "def binarization(X, threshold):\n",
        "    output = (X >= threshold).astype(int)\n",
        "    return output"
      ]
    },
    {
      "cell_type": "code",
      "execution_count": 55,
      "metadata": {
        "id": "XNGzFT2E7Sz9"
      },
      "outputs": [
        {
          "name": "stdout",
          "output_type": "stream",
          "text": [
            "Threshold: 100\n",
            "Train Accuracy (Naive Bayes): 0.94925\n",
            "Test Accuracy (Naive Bayes): 0.951\n",
            "Train Accuracy (Decision Tree): 0.9963333333333333\n",
            "Test Accuracy (Decision Tree): 0.976\n",
            "Threshold: 110\n",
            "Train Accuracy (Naive Bayes): 0.94325\n",
            "Test Accuracy (Naive Bayes): 0.9445\n",
            "Train Accuracy (Decision Tree): 0.99525\n",
            "Test Accuracy (Decision Tree): 0.977\n",
            "Threshold: 120\n",
            "Train Accuracy (Naive Bayes): 0.9365\n",
            "Test Accuracy (Naive Bayes): 0.9405\n",
            "Train Accuracy (Decision Tree): 0.9944166666666666\n",
            "Test Accuracy (Decision Tree): 0.977\n",
            "Threshold: 130\n",
            "Train Accuracy (Naive Bayes): 0.9294166666666667\n",
            "Test Accuracy (Naive Bayes): 0.9325\n",
            "Train Accuracy (Decision Tree): 0.9910833333333333\n",
            "Test Accuracy (Decision Tree): 0.975\n",
            "Threshold: 140\n",
            "Train Accuracy (Naive Bayes): 0.9189166666666667\n",
            "Test Accuracy (Naive Bayes): 0.9205\n",
            "Train Accuracy (Decision Tree): 0.9891666666666666\n",
            "Test Accuracy (Decision Tree): 0.967\n",
            "Threshold: 150\n",
            "Train Accuracy (Naive Bayes): 0.9058333333333334\n",
            "Test Accuracy (Naive Bayes): 0.9065\n",
            "Train Accuracy (Decision Tree): 0.9873333333333333\n",
            "Test Accuracy (Decision Tree): 0.9625\n",
            "Threshold: 160\n",
            "Train Accuracy (Naive Bayes): 0.8916666666666667\n",
            "Test Accuracy (Naive Bayes): 0.887\n",
            "Train Accuracy (Decision Tree): 0.9820833333333333\n",
            "Test Accuracy (Decision Tree): 0.957\n",
            "Threshold: 170\n",
            "Train Accuracy (Naive Bayes): 0.87825\n",
            "Test Accuracy (Naive Bayes): 0.8695\n",
            "Train Accuracy (Decision Tree): 0.9768333333333333\n",
            "Test Accuracy (Decision Tree): 0.9505\n",
            "Threshold: 180\n",
            "Train Accuracy (Naive Bayes): 0.8636666666666667\n",
            "Test Accuracy (Naive Bayes): 0.8585\n",
            "Train Accuracy (Decision Tree): 0.9721666666666666\n",
            "Test Accuracy (Decision Tree): 0.9445\n",
            "Threshold: 190\n",
            "Train Accuracy (Naive Bayes): 0.8484166666666667\n",
            "Test Accuracy (Naive Bayes): 0.841\n",
            "Train Accuracy (Decision Tree): 0.9678333333333333\n",
            "Test Accuracy (Decision Tree): 0.9365\n",
            "Threshold: 200\n",
            "Train Accuracy (Naive Bayes): 0.8316666666666667\n",
            "Test Accuracy (Naive Bayes): 0.822\n",
            "Train Accuracy (Decision Tree): 0.9489166666666666\n",
            "Test Accuracy (Decision Tree): 0.927\n"
          ]
        }
      ],
      "source": [
        "DEL_THRESHOLD = np.arange(100, 210, 10)\n",
        "train_acc_nb = []\n",
        "test_acc_nb = []\n",
        "train_acc_dt = []\n",
        "test_acc_dt = []\n",
        "\n",
        "for threshold in DEL_THRESHOLD:\n",
        "    temp_X = binarization(train_X, threshold)\n",
        "    temp_test_X = binarization(test_X, threshold)\n",
        "\n",
        "    # Train Naive Bayes\n",
        "    nb_classifier = BernoulliNaiveBayesClassifier(alpha=1, N=2)\n",
        "    nb_classifier.fit(temp_X, train_y.reshape(-1))\n",
        "\n",
        "    # Evaluate Naive Bayes\n",
        "    nb_train_pred = nb_classifier.predict(temp_X)\n",
        "    nb_test_pred = nb_classifier.predict(temp_test_X)\n",
        "    \n",
        "    # Add accuracy to the list\n",
        "    train_acc_nb.append(accuracy_score(train_y, nb_train_pred))\n",
        "    test_acc_nb.append(accuracy_score(test_y, nb_test_pred))\n",
        "\n",
        "    # Train Decision Tree\n",
        "    dt_classifier = DecisionTreeClassifier(criterion=\"gini\", max_depth=10)\n",
        "    dt_classifier.fit(temp_X, train_y.reshape(-1))\n",
        "\n",
        "    # Evaluate Decision Tree\n",
        "    dt_train_pred = dt_classifier.predict(temp_X)\n",
        "    dt_test_pred = dt_classifier.predict(temp_test_X)\n",
        "\n",
        "    # Add accuracy to the list\n",
        "    train_acc_dt.append(accuracy_score(train_y, dt_train_pred))\n",
        "    test_acc_dt.append(accuracy_score(test_y, dt_test_pred))\n",
        "\n",
        "    # Print the information in each iteration\n",
        "    print(\"Threshold:\", threshold)\n",
        "    print(\"Train Accuracy (Naive Bayes):\", train_acc_nb[-1])\n",
        "    print(\"Test Accuracy (Naive Bayes):\", test_acc_nb[-1])\n",
        "    print(\"Train Accuracy (Decision Tree):\", train_acc_dt[-1])\n",
        "    print(\"Test Accuracy (Decision Tree):\", test_acc_dt[-1])"
      ]
    },
    {
      "cell_type": "code",
      "execution_count": 56,
      "metadata": {},
      "outputs": [
        {
          "name": "stdout",
          "output_type": "stream",
          "text": [
            "Best Naive Bayes Threshold: 100, Test Accuracy: 0.95\n",
            "Best Decision Tree Threshold: 110, Test Accuracy: 0.98\n"
          ]
        },
        {
          "data": {
            "image/png": "[encoded data removed]",
            "text/plain": [
              "<Figure size 2000x600 with 2 Axes>"
            ]
          },
          "metadata": {},
          "output_type": "display_data"
        }
      ],
      "source": [
        "# Find best thresholds\n",
        "best_nb_threshold = DEL_THRESHOLD[np.argmax(test_acc_nb)]\n",
        "best_nb_test_acc = max(test_acc_nb)\n",
        "best_dt_threshold = DEL_THRESHOLD[np.argmax(test_acc_dt)]\n",
        "best_dt_test_acc = max(test_acc_dt)\n",
        "\n",
        "print(f\"Best Naive Bayes Threshold: {best_nb_threshold}, Test Accuracy: {best_nb_test_acc:.2f}\")\n",
        "print(f\"Best Decision Tree Threshold: {best_dt_threshold}, Test Accuracy: {best_dt_test_acc:.2f}\")\n",
        "\n",
        "# Plot results\n",
        "plt.figure(figsize=(20, 6))\n",
        "plt.subplot(1, 2, 1)\n",
        "plt.plot(DEL_THRESHOLD, train_acc_nb, label=\"Naive Bayes Train Accuracy\")\n",
        "plt.plot(DEL_THRESHOLD, test_acc_nb, label=\"Naive Bayes Test Accuracy\")\n",
        "plt.xlabel(\"Threshold\")\n",
        "plt.ylabel(\"Accuracy\")\n",
        "plt.title(\"Bernoulli Naive Bayes Accuracy on Different Thresholds\")\n",
        "plt.legend()\n",
        "\n",
        "plt.subplot(1, 2, 2)\n",
        "plt.plot(DEL_THRESHOLD, train_acc_dt, label=\"Decision Tree Train Accuracy\")\n",
        "plt.plot(DEL_THRESHOLD, test_acc_dt, label=\"Decision Tress Test Accuracy\")\n",
        "plt.xlabel(\"Threshold\")\n",
        "plt.ylabel(\"Accuracy\")\n",
        "plt.title(\"Decision Tree Accuracy \")\n",
        "plt.legend()\n",
        "\n",
        "plt.tight_layout()\n",
        "plt.show()"
      ]
    },
    {
      "cell_type": "code",
      "execution_count": 57,
      "metadata": {},
      "outputs": [
        {
          "data": {
            "image/png": "[encoded data removed]",
            "text/plain": [
              "<Figure size 3000x300 with 11 Axes>"
            ]
          },
          "metadata": {},
          "output_type": "display_data"
        }
      ],
      "source": [
        "# Sample image\n",
        "train_X = pd.read_csv(\"train_images.csv\", header=None)\n",
        "sample_image = train_X.iloc[6000].values.reshape(28, 28)\n",
        "\n",
        "# Plot the images with different thresholds\n",
        "plt.figure(figsize=(30, 3))\n",
        "for i, threshold in enumerate(DEL_THRESHOLD):\n",
        "    binarized = binarization(sample_image, threshold)\n",
        "    plt.subplot(1, len(np.arange(100, 210, 10)), i + 1)\n",
        "    plt.imshow(binarized.reshape(28, 28), cmap=\"gray\")\n",
        "    plt.title(f\"Threshold: {threshold}\")\n",
        "plt.show()"
      ]
    }
  ],
  "metadata": {
    "colab": {
      "provenance": []
    },
    "kernelspec": {
      "display_name": ".venv",
      "language": "python",
      "name": "python3"
    },
    "language_info": {
      "codemirror_mode": {
        "name": "ipython",
        "version": 3
      },
      "file_extension": ".py",
      "mimetype": "text/x-python",
      "name": "python",
      "nbconvert_exporter": "python",
      "pygments_lexer": "ipython3",
      "version": "3.12.9"
    }
  },
  "nbformat": 4,
  "nbformat_minor": 0
}
